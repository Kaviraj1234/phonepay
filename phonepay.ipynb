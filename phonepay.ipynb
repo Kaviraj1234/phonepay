import pandas as pd
import json
import os
import pymysql
from pprint import pprint
                                                      AGGREGATED TRANS

#This is to direct the path to get the data as states

path=r"C:\Users\hp\Downloads\pulse-master\pulse-master\data\aggregated\transaction\country\india\state"
Agg_state_list=os.listdir(path)
#This is to extract the data's to create a dataframe

clm={'State':[], 'Year':[],'Quater':[],'Transacion_type':[], 'Transacion_count':[], 'Transacion_amount':[]}
for i in Agg_state_list:
    p_i=path+"/"+i
    Agg_yr=os.listdir(p_i)
    for j in Agg_yr:
        p_j=p_i+"/"+j
        Agg_yr_list=os.listdir(p_j)
        for k in Agg_yr_list:
            p_k=p_j+"/"+k
            Data=open(p_k,'r')
            D=json.load(Data)
            for z in D['data']['transactionData']:
              Name=z['name']
              count=z['paymentInstruments'][0]['count']
              amount=z['paymentInstruments'][0]['amount']
              clm['Transacion_type'].append(Name)
              clm['Transacion_count'].append(count)
              clm['Transacion_amount'].append(amount)
              clm['State'].append(i)
              clm['Year'].append(j)
              clm['Quater'].append(int(k.strip('.json')))
#Succesfully created a dataframe
agg_trans=pd.DataFrame(clm)
